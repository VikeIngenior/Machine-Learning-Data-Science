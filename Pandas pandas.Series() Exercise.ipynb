{
 "cells": [
  {
   "cell_type": "code",
   "execution_count": 1,
   "id": "6d986627",
   "metadata": {},
   "outputs": [],
   "source": [
    "import pandas as pd\n",
    "import numpy as np"
   ]
  },
  {
   "cell_type": "code",
   "execution_count": 10,
   "id": "3261f64d",
   "metadata": {},
   "outputs": [
    {
     "data": {
      "text/plain": [
       "2    1\n",
       "4    2\n",
       "6    3\n",
       "8    4\n",
       "dtype: int64"
      ]
     },
     "execution_count": 10,
     "metadata": {},
     "output_type": "execute_result"
    }
   ],
   "source": [
    "seri = pd.Series([1,2,3,4],[2,4,6,8])\n",
    "seri"
   ]
  },
  {
   "cell_type": "code",
   "execution_count": 12,
   "id": "01a6a8e1",
   "metadata": {},
   "outputs": [
    {
     "data": {
      "text/plain": [
       "1"
      ]
     },
     "execution_count": 12,
     "metadata": {},
     "output_type": "execute_result"
    }
   ],
   "source": [
    "seri[2]"
   ]
  },
  {
   "cell_type": "code",
   "execution_count": 16,
   "id": "dd93c8d8",
   "metadata": {},
   "outputs": [
    {
     "data": {
      "text/plain": [
       "6    3\n",
       "8    4\n",
       "dtype: int64"
      ]
     },
     "execution_count": 16,
     "metadata": {},
     "output_type": "execute_result"
    }
   ],
   "source": [
    "seri[2:4]"
   ]
  },
  {
   "cell_type": "code",
   "execution_count": 17,
   "id": "8ceb6edf",
   "metadata": {},
   "outputs": [],
   "source": [
    "#String index"
   ]
  },
  {
   "cell_type": "code",
   "execution_count": 18,
   "id": "c4deebbe",
   "metadata": {},
   "outputs": [
    {
     "data": {
      "text/plain": [
       "max     342\n",
       "deg1     23\n",
       "deg2     63\n",
       "min      13\n",
       "dtype: int64"
      ]
     },
     "execution_count": 18,
     "metadata": {},
     "output_type": "execute_result"
    }
   ],
   "source": [
    "seri = pd.Series([342,23,63,13],[\"max\",\"deg1\",\"deg2\",\"min\"])\n",
    "seri"
   ]
  },
  {
   "cell_type": "code",
   "execution_count": 25,
   "id": "34ffd215",
   "metadata": {},
   "outputs": [
    {
     "data": {
      "text/plain": [
       "max     342\n",
       "min      13\n",
       "deg1     23\n",
       "dtype: int64"
      ]
     },
     "execution_count": 25,
     "metadata": {},
     "output_type": "execute_result"
    }
   ],
   "source": [
    "seri[[\"max\",\"min\",\"deg1\"]] #Double square brackets to show more than one line"
   ]
  },
  {
   "cell_type": "code",
   "execution_count": 26,
   "id": "a17736bc",
   "metadata": {},
   "outputs": [
    {
     "data": {
      "text/plain": [
       "Index(['max', 'deg1', 'deg2', 'min'], dtype='object')"
      ]
     },
     "execution_count": 26,
     "metadata": {},
     "output_type": "execute_result"
    }
   ],
   "source": [
    "seri.index"
   ]
  },
  {
   "cell_type": "code",
   "execution_count": 27,
   "id": "4552dc52",
   "metadata": {},
   "outputs": [
    {
     "data": {
      "text/plain": [
       "<bound method Series.keys of max     342\n",
       "deg1     23\n",
       "deg2     63\n",
       "min      13\n",
       "dtype: int64>"
      ]
     },
     "execution_count": 27,
     "metadata": {},
     "output_type": "execute_result"
    }
   ],
   "source": [
    "seri.keys"
   ]
  },
  {
   "cell_type": "code",
   "execution_count": 29,
   "id": "30381b32",
   "metadata": {},
   "outputs": [
    {
     "data": {
      "text/plain": [
       "array([342,  23,  63,  13], dtype=int64)"
      ]
     },
     "execution_count": 29,
     "metadata": {},
     "output_type": "execute_result"
    }
   ],
   "source": [
    "seri.values"
   ]
  },
  {
   "cell_type": "code",
   "execution_count": 30,
   "id": "2c6ffcf5",
   "metadata": {},
   "outputs": [
    {
     "data": {
      "text/plain": [
       "[342, 23, 63, 13]"
      ]
     },
     "execution_count": 30,
     "metadata": {},
     "output_type": "execute_result"
    }
   ],
   "source": [
    "list(seri.values)"
   ]
  },
  {
   "cell_type": "code",
   "execution_count": 34,
   "id": "b635fe3c",
   "metadata": {},
   "outputs": [
    {
     "data": {
      "text/plain": [
       "[('max', 342), ('deg1', 23), ('deg2', 63), ('min', 13)]"
      ]
     },
     "execution_count": 34,
     "metadata": {},
     "output_type": "execute_result"
    }
   ],
   "source": [
    "list(seri.items())"
   ]
  },
  {
   "cell_type": "code",
   "execution_count": 40,
   "id": "b58bcfde",
   "metadata": {},
   "outputs": [
    {
     "name": "stdout",
     "output_type": "stream",
     "text": [
      "max --> 342\n",
      "deg1 --> 23\n",
      "deg2 --> 63\n",
      "min --> 13\n"
     ]
    }
   ],
   "source": [
    "for i in list(seri.items()):\n",
    "    print(f\"{i[0]} --> {i[1]}\")"
   ]
  },
  {
   "cell_type": "code",
   "execution_count": 41,
   "id": "033b7943",
   "metadata": {},
   "outputs": [
    {
     "data": {
      "text/plain": [
       "False"
      ]
     },
     "execution_count": 41,
     "metadata": {},
     "output_type": "execute_result"
    }
   ],
   "source": [
    "#Element query\n",
    "\"deg3\" in seri"
   ]
  },
  {
   "cell_type": "code",
   "execution_count": 42,
   "id": "1873fab3",
   "metadata": {},
   "outputs": [
    {
     "data": {
      "text/plain": [
       "True"
      ]
     },
     "execution_count": 42,
     "metadata": {},
     "output_type": "execute_result"
    }
   ],
   "source": [
    "\"max\" in seri"
   ]
  },
  {
   "cell_type": "code",
   "execution_count": 46,
   "id": "3e5855b8",
   "metadata": {},
   "outputs": [
    {
     "name": "stdout",
     "output_type": "stream",
     "text": [
      "True\n",
      "False\n",
      "True\n",
      "True\n"
     ]
    }
   ],
   "source": [
    "elements = [\"max\",\"deg3\",\"deg2\",\"min\"]\n",
    "for i in elements:\n",
    "    print(i in seri)"
   ]
  },
  {
   "cell_type": "code",
   "execution_count": 47,
   "id": "946359f4",
   "metadata": {},
   "outputs": [
    {
     "data": {
      "text/plain": [
       "342"
      ]
     },
     "execution_count": 47,
     "metadata": {},
     "output_type": "execute_result"
    }
   ],
   "source": [
    "seri[\"max\"]"
   ]
  },
  {
   "cell_type": "code",
   "execution_count": 48,
   "id": "6974f6b6",
   "metadata": {},
   "outputs": [
    {
     "data": {
      "text/plain": [
       "max     342\n",
       "deg1     23\n",
       "deg2     63\n",
       "min       1\n",
       "dtype: int64"
      ]
     },
     "execution_count": 48,
     "metadata": {},
     "output_type": "execute_result"
    }
   ],
   "source": [
    "seri[\"min\"] = 1\n",
    "seri"
   ]
  },
  {
   "cell_type": "code",
   "execution_count": 49,
   "id": "171faec0",
   "metadata": {},
   "outputs": [
    {
     "data": {
      "text/plain": [
       "max     342\n",
       "deg1     23\n",
       "deg2     63\n",
       "dtype: int64"
      ]
     },
     "execution_count": 49,
     "metadata": {},
     "output_type": "execute_result"
    }
   ],
   "source": [
    "seri[\"max\":\"deg2\"]"
   ]
  },
  {
   "cell_type": "code",
   "execution_count": null,
   "id": "1385d13a",
   "metadata": {},
   "outputs": [],
   "source": []
  }
 ],
 "metadata": {
  "kernelspec": {
   "display_name": "Python 3 (ipykernel)",
   "language": "python",
   "name": "python3"
  },
  "language_info": {
   "codemirror_mode": {
    "name": "ipython",
    "version": 3
   },
   "file_extension": ".py",
   "mimetype": "text/x-python",
   "name": "python",
   "nbconvert_exporter": "python",
   "pygments_lexer": "ipython3",
   "version": "3.11.4"
  }
 },
 "nbformat": 4,
 "nbformat_minor": 5
}
